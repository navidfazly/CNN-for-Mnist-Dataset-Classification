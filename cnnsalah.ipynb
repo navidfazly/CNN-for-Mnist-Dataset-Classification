{
  "cells": [
    {
      "cell_type": "markdown",
      "metadata": {
        "id": "T4cUIyjZT6tz"
      },
      "source": [
        "<img src='http://www-scf.usc.edu/~ghasemig/images/sharif.png' alt=\"SUT logo\" width=200 height=200 align=left class=\"saturate\" >\n",
        "\n",
        "<br>\n",
        "<font face=\"Times New Roman\">\n",
        "<div dir=ltr align=center>\n",
        "<font color=0F5298 size=7>\n",
        "    Introduction to Machine Learning <br>\n",
        "<font color=2565AE size=5>\n",
        "    Computer Engineering Department <br>\n",
        "    Fall 2022<br>\n",
        "<font color=3C99D size=5>\n",
        "    Homework 4: Practical - Convolutional Neural Networks <br>\n",
        "<font color=696880 size=4>\n",
        "    Arian Amani\n",
        "    \n",
        "    \n",
        "____\n"
      ]
    },
    {
      "cell_type": "markdown",
      "metadata": {
        "id": "ziJNozLST6t_"
      },
      "source": [
        "### Full Name : \n",
        "### Student Number : \n",
        "___"
      ]
    },
    {
      "cell_type": "markdown",
      "metadata": {
        "id": "4p1jODfmT6uB"
      },
      "source": [
        "# Problem\n",
        "This assignment uses PyTorch to build and implement a residual CNN for solving a classification problem. Our goal is to classify handwritten digits from 0 to 9 on the MNIST dataset. You can try larger and more fun datasets if you have access to Google Colab. (for example: [facial emotion detection](https://www.kaggle.com/datasets/msambare/fer2013))\n",
        "\n",
        "* It is highly recommended to run this notebook on Google Colab so that you can utilize its GPU.\n",
        "* If you need to change the inputs of functions you are implementing, or want to add new cells or functions, feel free to do so."
      ]
    },
    {
      "cell_type": "markdown",
      "metadata": {
        "id": "W0bGV8AXO3Yx"
      },
      "source": [
        "# Setup"
      ]
    },
    {
      "cell_type": "code",
      "execution_count": 232,
      "metadata": {
        "id": "CdrZr6HWO2p8"
      },
      "outputs": [],
      "source": [
        "import torch\n",
        "from torch import nn\n",
        "from torch.nn import functional as F\n",
        "from torch.utils.data import Dataset, DataLoader, random_split\n",
        "from torchvision import transforms, datasets\n",
        "\n",
        "from tqdm import tqdm\n",
        "import numpy as np\n",
        "import pandas as pd\n",
        "import matplotlib.pyplot as plt\n",
        "\n",
        "plt.style.use('ggplot')\n",
        "###########################################################\n",
        "##  If you need any other packages, import them below    ##\n",
        "###########################################################\n"
      ]
    },
    {
      "cell_type": "code",
      "execution_count": 233,
      "metadata": {
        "colab": {
          "base_uri": "https://localhost:8080/"
        },
        "id": "cXl_YNIPT6uH",
        "outputId": "27a9dd20-8491-4e18-db5e-f3c9a5091a93"
      },
      "outputs": [
        {
          "output_type": "execute_result",
          "data": {
            "text/plain": [
              "device(type='cuda')"
            ]
          },
          "metadata": {},
          "execution_count": 233
        }
      ],
      "source": [
        "device = torch.device('cuda' if torch.cuda.is_available() else 'cpu')\n",
        "device"
      ]
    },
    {
      "cell_type": "markdown",
      "metadata": {
        "id": "gzydGC2SNuAu"
      },
      "source": [
        "# Prepare The Data (10 Points)"
      ]
    },
    {
      "cell_type": "markdown",
      "metadata": {
        "id": "noLgThGET6uK"
      },
      "source": [
        "Write a composed transformation to transform our dataset's PIL images to tensors and normalize them with ```mean: 0.1307``` and ```std: 0.3081```: "
      ]
    },
    {
      "cell_type": "markdown",
      "metadata": {
        "id": "tqifq16ET6uM"
      },
      "source": [
        "<details>\n",
        "<summary>Hint</summary>\n",
        "<br>\n",
        "<a href=\"https://pytorch.org/vision/stable/generated/torchvision.transforms.Compose.html\">torchvision.transforms.Compose</a>\n",
        "</details>"
      ]
    },
    {
      "cell_type": "code",
      "execution_count": 234,
      "metadata": {
        "id": "Y-wWPqTrT6uO"
      },
      "outputs": [],
      "source": [
        "###############################################################\n",
        "##                Compose your transformations               ##\n",
        "###############################################################\n",
        "transformation = transforms.Compose([\n",
        "                transforms.ToTensor(),\n",
        "                transforms.Normalize((0.1307,), (0.3081,))\n",
        "                ])\n",
        "\n"
      ]
    },
    {
      "cell_type": "markdown",
      "metadata": {
        "id": "ANdYnd04N0ze"
      },
      "source": [
        "Split the downloaded MNIST dataset into two dataloaders ```train``` & ```val```"
      ]
    },
    {
      "cell_type": "code",
      "execution_count": 235,
      "metadata": {
        "colab": {
          "base_uri": "https://localhost:8080/"
        },
        "id": "vfLPqd5gT6uQ",
        "outputId": "c976ef86-f4bb-49b6-9804-727d771d552d"
      },
      "outputs": [
        {
          "output_type": "stream",
          "name": "stdout",
          "text": [
            "60000\n"
          ]
        }
      ],
      "source": [
        "# Download the MNIST dataset\n",
        "mnist_data = datasets.MNIST(root='data/', download=True, transform=transformation)\n",
        "\n",
        "# Number of images in the dataset: 60,000\n",
        "print(len(mnist_data))\n",
        "\n",
        "# Split the dataset into training and validation sets\n",
        "train_data, valid_data = random_split(mnist_data, [50000, 10000]) "
      ]
    },
    {
      "cell_type": "markdown",
      "metadata": {
        "id": "V4U3slIXT6uR"
      },
      "source": [
        "Create dataloaders for your train and validation data with ```batch size 16``` and ```shuffle = True``` for train loader."
      ]
    },
    {
      "cell_type": "markdown",
      "metadata": {
        "id": "9EoI2hIzT6uS"
      },
      "source": [
        "<details>\n",
        "<summary>Hint</summary>\n",
        "<br>\n",
        "<a href=\"https://pytorch.org/tutorials/beginner/basics/data_tutorial.html\">DATASETS & DATALOADERS</a>\n",
        "</details>"
      ]
    },
    {
      "cell_type": "code",
      "execution_count": 236,
      "metadata": {
        "id": "4CEUTGaFQI51"
      },
      "outputs": [],
      "source": [
        "###############################################################\n",
        "##           Load the datasets into train/valid              ##\n",
        "##                       dataloaders                         ##\n",
        "###############################################################\n",
        "batch_size = 16\n",
        "train_loader = torch.utils.data.DataLoader(train_data, batch_size=batch_size, shuffle=True, drop_last=False, num_workers=2)\n",
        "val_loader = torch.utils.data.DataLoader(valid_data, batch_size=batch_size, shuffle=True, drop_last=False, num_workers=2)"
      ]
    },
    {
      "cell_type": "markdown",
      "metadata": {
        "id": "HF_40_3rQ5Uv"
      },
      "source": [
        "# Define Model (40 Points)\n",
        "\n",
        "> Indented block\n",
        "\n"
      ]
    },
    {
      "cell_type": "markdown",
      "metadata": {
        "id": "WbTu7zOzT6uU"
      },
      "source": [
        "### You need to implement a model with the architecture below:\n",
        "[Input: (BS, 1, 28, 28)] -- > [Conv2D (BS, 16, 28, 28)] --> ReLU --> [MaxPool2D (BS, 16, 14, 14): Residual1]\n",
        "\n",
        "--> [Conv2D (BS, 16, 14, 14)] --> ReLU --> [Conv2D (BS, 16, 14, 14)] --> ReLU --> [Addition with Residual1]\n",
        "\n",
        "--> [MaxPool2D (BS, 16, 7, 7)] --> [Conv2D (BS, 64, 7, 7)] --> [ReLU: Residual2]\n",
        "\n",
        "--> [Conv2D (BS, 64, 7, 7)] --> ReLU --> [Conv2D (BS, 64, 7, 7)] --> ReLU --> [Addition with Residual2]\n",
        "\n",
        "--> [GlobalAveragePooling (BS, 64, 1, 1)] --> [Flatten (BS, 64)] --> [Linear (BS, 10)] --> ReLU --> OUT\n",
        "\n",
        "Here you can see the drawn schematic of the architecture, too: [Link](https://drive.google.com/file/d/1gQzafyxTkuvQr8T-xUncLmedX94LnY_l/view?usp=share_link)"
      ]
    },
    {
      "cell_type": "markdown",
      "metadata": {
        "id": "Bl97KAJPT6uV"
      },
      "source": [
        "<details>\n",
        "<summary>Hint</summary>\n",
        "<br>\n",
        "These might be helpful:\n",
        "<br>\n",
        "<a href=\"https://pytorch.org/docs/stable/generated/torch.clone.html\">TORCH.CLONE</a>\n",
        "<br><br>\n",
        "<a href=\"https://pytorch.org/docs/master/generated/torch.nn.AdaptiveAvgPool2d.html#torch.nn.AdaptiveAvgPool2d\">AdaptiveAvgPool2d</a> with output size (1, 1) for global average pooling\n",
        "<br><br>\n",
        "<a href=\"https://arxiv.org/pdf/1512.03385.pdf\">Deep Residual Learning for Image Recognition</a>\n",
        "</details>"
      ]
    },
    {
      "cell_type": "code",
      "execution_count": 237,
      "metadata": {
        "id": "jQfGVj2rQ90G"
      },
      "outputs": [],
      "source": [
        "#####################################\n",
        "##        Define your model        ##\n",
        "##            Your Code            ##\n",
        "#####################################\n",
        "class ResidualClassifier(nn.Module):\n",
        "    def __init__(self):\n",
        "        super(ResidualClassifier, self).__init__()\n",
        "        self.conv1 = nn.Sequential(\n",
        "                        nn.Conv2d(1, 16, kernel_size = 5, stride = 1, padding = 2),\n",
        "                        nn.ReLU(inplace=True),\n",
        "                        nn.MaxPool2d(2,2))\n",
        "        self.conv2 = nn.Sequential(\n",
        "                        nn.Conv2d(16, 16, kernel_size = 5, stride = 1, padding = 2),\n",
        "                        nn.ReLU(inplace=True),\n",
        "                        nn.Conv2d(16, 16, kernel_size = 5, stride = 1, padding = 2),\n",
        "                        nn.ReLU(inplace=True))\n",
        "        self.conv3 = nn.Sequential(\n",
        "                        nn.MaxPool2d(2,2),\n",
        "                        nn.Conv2d(16, 64, kernel_size = 5, stride = 1, padding = 2),\n",
        "                        nn.ReLU(inplace=True))\n",
        "        self.conv4 = nn.Sequential(\n",
        "                        nn.Conv2d(64, 64, kernel_size = 5, stride = 1, padding = 2),\n",
        "                        nn.ReLU(inplace=True),\n",
        "                        nn.Conv2d(64, 64, kernel_size = 5, stride = 1, padding = 2),\n",
        "                        nn.ReLU(inplace=True))\n",
        "        self.conv5 = nn.Sequential(\n",
        "                        nn.AdaptiveAvgPool2d(1),\n",
        "                        nn.Flatten(),\n",
        "                        nn.Linear(64,10))\n",
        "\n",
        "\n",
        "    def forward(self, x):\n",
        "        out = self.conv1(x)\n",
        "        residual1 = out\n",
        "        out = self.conv2(out)\n",
        "        out = out + residual1\n",
        "        out = self.conv3(out)\n",
        "        residual2 = out\n",
        "        out = self.conv4(out)\n",
        "        out = out + residual2\n",
        "        out = self.conv5(out)\n",
        "\n",
        "        return out"
      ]
    },
    {
      "cell_type": "markdown",
      "metadata": {
        "id": "1jZeKXV9Rbq3"
      },
      "source": [
        "# Train Model (30 Points)"
      ]
    },
    {
      "cell_type": "code",
      "execution_count": 238,
      "metadata": {
        "id": "koMk0TkKRazn"
      },
      "outputs": [],
      "source": [
        "######################################################################\n",
        "##        Instantiate model, define hyper parameters, optimizer,    ##\n",
        "##        loss function and etc                                     ##\n",
        "######################################################################\n",
        "model = ResidualClassifier().to(device)\n",
        "optimizer = torch.optim.SGD(model.parameters(), lr=0.01, weight_decay = 0.001, momentum = 0.9)  \n",
        "\n",
        "# optimizer = torch.optim.Adam(model.parameters(),0.001)\n",
        "criterion = torch.nn.CrossEntropyLoss()\n"
      ]
    },
    {
      "cell_type": "code",
      "execution_count": 239,
      "metadata": {
        "colab": {
          "base_uri": "https://localhost:8080/"
        },
        "id": "Hd6N-rl_T6uY",
        "outputId": "68e3cf26-21b7-45b5-f56e-63aa3908dbcd"
      },
      "outputs": [
        {
          "output_type": "stream",
          "name": "stdout",
          "text": [
            "Epoch 0\n",
            " Training : Loss : 0.0741, Acc : 0.9772\n",
            " Validation : Loss : 0.0806, Acc : 0.9767\n",
            "Epoch 1\n",
            " Training : Loss : 0.0683, Acc : 0.9792\n",
            " Validation : Loss : 0.0767, Acc : 0.9772\n",
            "Epoch 2\n",
            " Training : Loss : 0.0359, Acc : 0.9886\n",
            " Validation : Loss : 0.0478, Acc : 0.9852\n",
            "Epoch 3\n",
            " Training : Loss : 0.0347, Acc : 0.9896\n",
            " Validation : Loss : 0.0444, Acc : 0.9876\n",
            "Epoch 4\n",
            " Training : Loss : 0.0376, Acc : 0.9878\n",
            " Validation : Loss : 0.0506, Acc : 0.9853\n",
            "Epoch 5\n",
            " Training : Loss : 0.0484, Acc : 0.9863\n",
            " Validation : Loss : 0.0585, Acc : 0.9830\n",
            "Epoch 6\n",
            " Training : Loss : 0.0301, Acc : 0.9906\n",
            " Validation : Loss : 0.0406, Acc : 0.9867\n",
            "Epoch 7\n",
            " Training : Loss : 0.0309, Acc : 0.9909\n",
            " Validation : Loss : 0.0434, Acc : 0.9873\n",
            "Epoch 8\n",
            " Training : Loss : 0.0473, Acc : 0.9855\n",
            " Validation : Loss : 0.0674, Acc : 0.9822\n",
            "Epoch 9\n",
            " Training : Loss : 0.0286, Acc : 0.9907\n",
            " Validation : Loss : 0.0423, Acc : 0.9869\n",
            "Epoch 10\n",
            " Training : Loss : 0.0338, Acc : 0.9894\n",
            " Validation : Loss : 0.0448, Acc : 0.9869\n",
            "Epoch 11\n",
            " Training : Loss : 0.0276, Acc : 0.9913\n",
            " Validation : Loss : 0.0416, Acc : 0.9874\n",
            "Epoch 12\n",
            " Training : Loss : 0.0223, Acc : 0.9936\n",
            " Validation : Loss : 0.0364, Acc : 0.9886\n",
            "Epoch 13\n",
            " Training : Loss : 0.0270, Acc : 0.9919\n",
            " Validation : Loss : 0.0445, Acc : 0.9876\n",
            "Epoch 14\n",
            " Training : Loss : 0.0276, Acc : 0.9912\n",
            " Validation : Loss : 0.0439, Acc : 0.9876\n",
            "Epoch 15\n",
            " Training : Loss : 0.0321, Acc : 0.9897\n",
            " Validation : Loss : 0.0498, Acc : 0.9853\n",
            "Epoch 16\n",
            " Training : Loss : 0.0456, Acc : 0.9863\n",
            " Validation : Loss : 0.0609, Acc : 0.9831\n",
            "Epoch 17\n",
            " Training : Loss : 0.0332, Acc : 0.9898\n",
            " Validation : Loss : 0.0453, Acc : 0.9870\n",
            "Epoch 18\n",
            " Training : Loss : 0.0298, Acc : 0.9910\n",
            " Validation : Loss : 0.0421, Acc : 0.9875\n",
            "Epoch 19\n",
            " Training : Loss : 0.0212, Acc : 0.9936\n",
            " Validation : Loss : 0.0356, Acc : 0.9894\n"
          ]
        }
      ],
      "source": [
        "######################################################################\n",
        "##        Train your model (Complete the code below)                ##\n",
        "######################################################################\n",
        "total_step = len(train_loader)\n",
        "num_epochs = 20\n",
        "val_loss_lst = []\n",
        "val_acc_lst = []\n",
        "train_loss_lst = []\n",
        "train_acc_lst = []\n",
        "def test(model, loader, f_loss, device):\n",
        "    model.eval()\n",
        "    N = 0\n",
        "    tot_loss, correct = 0.0, 0.0\n",
        "    for i, (images, labels) in enumerate(loader):\n",
        "        images, labels = images.to(device), labels.to(device)\n",
        "        outputs = model(images)\n",
        "        N += images.shape[0]\n",
        "        tot_loss += images.shape[0] * f_loss(outputs, labels).item()\n",
        "        predicted_labels = outputs.argmax(dim=1)\n",
        "        correct += (predicted_labels == labels).sum().item()\n",
        "    return tot_loss/N, correct/N\n",
        "        \n",
        "for epoch in range(num_epochs):\n",
        "    print(\"Epoch {}\".format(epoch))\n",
        "    for images, labels in train_loader:  \n",
        "        images, labels = images.to(device), labels.to(device)\n",
        "        outputs = model(images)\n",
        "        loss = criterion(outputs, labels)\n",
        "        optimizer.zero_grad()\n",
        "        loss.backward()\n",
        "        optimizer.step()\n",
        "\n",
        "    with torch.no_grad():\n",
        "        val_loss, val_acc = test(model, val_loader, criterion, device)\n",
        "        train_loss, train_acc = test(model, train_loader, criterion, device)\n",
        "        val_loss_lst.append(val_loss)\n",
        "        val_acc_lst.append(val_acc)\n",
        "        train_loss_lst.append(train_loss)\n",
        "        train_acc_lst.append(train_acc)\n",
        "        print(\" Training : Loss : {:.4f}, Acc : {:.4f}\".format(train_loss, train_acc))\n",
        "        print(\" Validation : Loss : {:.4f}, Acc : {:.4f}\".format(val_loss, val_acc))\n"
      ]
    },
    {
      "cell_type": "code",
      "execution_count": 240,
      "metadata": {
        "id": "_YSWvcEGSVor",
        "colab": {
          "base_uri": "https://localhost:8080/",
          "height": 485
        },
        "outputId": "dc0b047f-6757-4bc1-8bf3-19869eeaa9c0"
      },
      "outputs": [
        {
          "output_type": "display_data",
          "data": {
            "text/plain": [
              "<Figure size 864x576 with 4 Axes>"
            ],
            "image/png": "[encoded data removed]"
          },
          "metadata": {}
        }
      ],
      "source": [
        "##############################################################\n",
        "##          Plot metrics graph for different epochs         ##\n",
        "##                        Your Code                         ##\n",
        "##############################################################\n",
        "import seaborn as sn\n",
        "\n",
        "sn.set()\n",
        "fig, axes = plt.subplots(2, 2, figsize=(12, 8))\n",
        "fig.subplots_adjust(hspace=0.5, wspace=0.5)\n",
        "\n",
        "sn.lineplot(data=train_acc_lst, ax=axes[0, 0], color='red');\n",
        "sn.lineplot(data=train_loss_lst, ax=axes[0, 1], color='red');\n",
        "sn.lineplot(data=val_acc_lst, ax=axes[1, 0], color='black');\n",
        "sn.lineplot(data=val_loss_lst, ax=axes[1, 1], color='black');\n"
      ]
    },
    {
      "cell_type": "markdown",
      "metadata": {
        "id": "LzhCrIFkSE1D"
      },
      "source": [
        "# Test Model (20 Points)"
      ]
    },
    {
      "cell_type": "code",
      "execution_count": 241,
      "metadata": {
        "id": "ihixveNISFwE",
        "colab": {
          "base_uri": "https://localhost:8080/"
        },
        "outputId": "66455f28-e025-45b8-b08f-28ce74bad348"
      },
      "outputs": [
        {
          "output_type": "stream",
          "name": "stdout",
          "text": [
            "10000\n",
            "Accuracy of the network on the test images: 99.21 %\n"
          ]
        }
      ],
      "source": [
        "##################################################\n",
        "##          Test your model on test-set         ##\n",
        "##          and plot confusion matrix           ##\n",
        "##################################################\n",
        "\n",
        "test_data = datasets.MNIST(root='data/', download=True, transform=transformation, train=False)\n",
        "test_loader = DataLoader(test_data, batch_size=64, shuffle=False)\n",
        "print(len(test_data))\n",
        "\n",
        "with torch.no_grad():\n",
        "    correct = 0\n",
        "    total = 0\n",
        "    for images, labels in test_loader:\n",
        "        images = images.to(device)\n",
        "        labels = labels.to(device)\n",
        "        outputs = model(images)\n",
        "        _, predicted = torch.max(outputs.data, 1)\n",
        "        total += labels.size(0)\n",
        "        correct += (predicted == labels).sum().item()\n",
        "        del images, labels, outputs\n",
        "\n",
        "    print('Accuracy of the network on the test images: {} %'.format(100 * correct / total))   "
      ]
    }
  ],
  "metadata": {
    "colab": {
      "provenance": []
    },
    "kernelspec": {
      "display_name": "Python 3 (ipykernel)",
      "language": "python",
      "name": "python3"
    },
    "language_info": {
      "codemirror_mode": {
        "name": "ipython",
        "version": 3
      },
      "file_extension": ".py",
      "mimetype": "text/x-python",
      "name": "python",
      "nbconvert_exporter": "python",
      "pygments_lexer": "ipython3",
      "version": "3.9.7"
    },
    "varInspector": {
      "cols": {
        "lenName": 16,
        "lenType": 16,
        "lenVar": 40
      },
      "kernels_config": {
        "python": {
          "delete_cmd_postfix": "",
          "delete_cmd_prefix": "del ",
          "library": "var_list.py",
          "varRefreshCmd": "print(var_dic_list())"
        },
        "r": {
          "delete_cmd_postfix": ") ",
          "delete_cmd_prefix": "rm(",
          "library": "var_list.r",
          "varRefreshCmd": "cat(var_dic_list()) "
        }
      },
      "types_to_exclude": [
        "module",
        "function",
        "builtin_function_or_method",
        "instance",
        "_Feature"
      ],
      "window_display": false
    },
    "vscode": {
      "interpreter": {
        "hash": "bb93c294e1388593f3ce88f4c5e050b65c17fc54b955fa171f33a4b9b3d10054"
      }
    },
    "accelerator": "GPU",
    "gpuClass": "standard"
  },
  "nbformat": 4,
  "nbformat_minor": 0
}